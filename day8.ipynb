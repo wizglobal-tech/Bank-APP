{
 "cells": [
  {
   "cell_type": "markdown",
   "id": "79758a6e",
   "metadata": {},
   "source": [
    "# OBJECT ORIENTED PROGRAMMING(OOP)"
   ]
  },
  {
   "cell_type": "code",
   "execution_count": 1,
   "id": "45793a56",
   "metadata": {},
   "outputs": [],
   "source": [
    "## Class, Attributes, Methods, Object"
   ]
  },
  {
   "cell_type": "code",
   "execution_count": 5,
   "id": "e1a310ce",
   "metadata": {},
   "outputs": [],
   "source": [
    "class Dog:\n",
    "    def __init__(self, breed, color, age):\n",
    "        self.breed = breed\n",
    "        self.color = color\n",
    "        self.age = age\n",
    "## Creating object\n",
    "mydog = Dog(\"Nkita\", \"Brown\", \"3\")"
   ]
  },
  {
   "cell_type": "markdown",
   "id": "dc36c416",
   "metadata": {},
   "source": [
    "## ATTRIBUTES"
   ]
  },
  {
   "cell_type": "code",
   "execution_count": 6,
   "id": "53bb61e6",
   "metadata": {},
   "outputs": [],
   "source": [
    "## Instance Attributes: Unique to each object\n",
    "## Class Attributes: Shared by all objects"
   ]
  },
  {
   "cell_type": "code",
   "execution_count": 11,
   "id": "d1524b12",
   "metadata": {},
   "outputs": [],
   "source": [
    "class Dog:\n",
    "    legs = 4\n",
    "    tail = 1\n",
    "    ears = 2\n",
    "    ## Initializer or Constructor\n",
    "    def __init__(self, breed, color, age):\n",
    "        self.breed = breed\n",
    "        self.color = color\n",
    "        self.age = age\n",
    "## Creating object\n",
    "mydog = Dog(\"Nkita\", \"Brown\", 3)"
   ]
  },
  {
   "cell_type": "code",
   "execution_count": 12,
   "id": "cf76450a",
   "metadata": {},
   "outputs": [],
   "source": [
    "yourdog = Dog(\"Chihuahua\", \"White\", 1)"
   ]
  },
  {
   "cell_type": "markdown",
   "id": "cb288b68",
   "metadata": {},
   "source": [
    "## ACCESSING ATTRIBUTES"
   ]
  },
  {
   "cell_type": "code",
   "execution_count": 13,
   "id": "3bc9305e",
   "metadata": {},
   "outputs": [
    {
     "name": "stdout",
     "output_type": "stream",
     "text": [
      "Nkita\n"
     ]
    }
   ],
   "source": [
    "print(mydog.breed)"
   ]
  },
  {
   "cell_type": "code",
   "execution_count": 14,
   "id": "02ec0e56",
   "metadata": {},
   "outputs": [
    {
     "name": "stdout",
     "output_type": "stream",
     "text": [
      "4\n"
     ]
    }
   ],
   "source": [
    "print(mydog.legs)"
   ]
  },
  {
   "cell_type": "markdown",
   "id": "6cc06fcb",
   "metadata": {},
   "source": [
    "## SIMPLE METHODS"
   ]
  },
  {
   "cell_type": "code",
   "execution_count": 15,
   "id": "236b9ac0",
   "metadata": {},
   "outputs": [
    {
     "name": "stdout",
     "output_type": "stream",
     "text": [
      "Woof Woof\n"
     ]
    }
   ],
   "source": [
    "class Dog:\n",
    "    def __init__(self, breed, color, age):\n",
    "        self.breed = breed\n",
    "        self.color = color\n",
    "        self.age = age\n",
    "    def bark(self):\n",
    "        print(\"Woof Woof\")\n",
    "## Creating object\n",
    "mydog = Dog(\"Nkita\", \"Brown\", \"3\")\n",
    "mydog.bark()"
   ]
  },
  {
   "cell_type": "markdown",
   "id": "7b413db3",
   "metadata": {},
   "source": [
    "## CLASS INHERITANCE"
   ]
  },
  {
   "cell_type": "code",
   "execution_count": 25,
   "id": "120d7926",
   "metadata": {},
   "outputs": [],
   "source": [
    "class Dog1(Dog):\n",
    "    def __init__(self, breed, color, age, wings):\n",
    "        super().__init__(breed, color, age)\n",
    "        self.wings = wings\n",
    "    def fly(self):\n",
    "        print(\"Flying.................\")"
   ]
  },
  {
   "cell_type": "code",
   "execution_count": 26,
   "id": "ff3f6288",
   "metadata": {},
   "outputs": [],
   "source": [
    "newdog = Dog1(\"German shephard\", \"Black\", 2, 2)"
   ]
  },
  {
   "cell_type": "code",
   "execution_count": 27,
   "id": "d6de6c89",
   "metadata": {},
   "outputs": [
    {
     "name": "stdout",
     "output_type": "stream",
     "text": [
      "Woof Woof\n"
     ]
    }
   ],
   "source": [
    "newdog.bark()"
   ]
  },
  {
   "cell_type": "code",
   "execution_count": 28,
   "id": "beaa8ca4",
   "metadata": {},
   "outputs": [
    {
     "name": "stdout",
     "output_type": "stream",
     "text": [
      "Flying.................\n"
     ]
    }
   ],
   "source": [
    "newdog.fly()"
   ]
  },
  {
   "cell_type": "code",
   "execution_count": 2,
   "id": "fe5c2da7",
   "metadata": {},
   "outputs": [
    {
     "name": "stdout",
     "output_type": "stream",
     "text": [
      "\n",
      "WELCOME TO BANKAPP\n",
      "\n",
      "1. DEPOSIT\n",
      "2. TRANSFER\n",
      "3. ELECTRICITY\n",
      "4. BALANCE\n",
      "5. LOGOUT\n",
      "\n",
      " Select an option: \n",
      "1\n",
      "Enter deposit amount: 500000\n",
      "Transaction successful............\n",
      "\n",
      "WELCOME TO BANKAPP\n",
      "\n",
      "1. DEPOSIT\n",
      "2. TRANSFER\n",
      "3. ELECTRICITY\n",
      "4. BALANCE\n",
      "5. LOGOUT\n",
      "\n",
      " Select an option: \n",
      "3\n",
      "1. PREPAID\n",
      "2. POSTPAID\n",
      "Select meter type: 1\n",
      "Enter meter number: 223536577777778\n",
      "Enter meter name: LANDLORD\n",
      "Enter amount: 1000\n",
      "Enter your pin: 1234\n",
      "Transaction successful.............\n",
      "\n",
      "WELCOME TO BANKAPP\n",
      "\n",
      "1. DEPOSIT\n",
      "2. TRANSFER\n",
      "3. ELECTRICITY\n",
      "4. BALANCE\n",
      "5. LOGOUT\n",
      "\n",
      " Select an option: \n",
      "3\n",
      "1. PREPAID\n",
      "2. POSTPAID\n",
      "Select meter type: 1\n",
      "Enter meter number: 234467876\n",
      "Enter meter name: LANDLORD\n",
      "Enter amount: 400\n",
      "Minimum amount is 500..........\n",
      "\n",
      "WELCOME TO BANKAPP\n",
      "\n",
      "1. DEPOSIT\n",
      "2. TRANSFER\n",
      "3. ELECTRICITY\n",
      "4. BALANCE\n",
      "5. LOGOUT\n",
      "\n",
      " Select an option: \n",
      "3\n",
      "1. PREPAID\n",
      "2. POSTPAID\n",
      "Select meter type: 1\n",
      "Enter meter number: 4567890\n",
      "Enter meter name: lanlord\n",
      "Enter amount: 1000\n",
      "Enter your pin: 5678\n",
      "Incorrect pin\n",
      "\n",
      "WELCOME TO BANKAPP\n",
      "\n",
      "1. DEPOSIT\n",
      "2. TRANSFER\n",
      "3. ELECTRICITY\n",
      "4. BALANCE\n",
      "5. LOGOUT\n"
     ]
    },
    {
     "ename": "KeyboardInterrupt",
     "evalue": "Interrupted by user",
     "output_type": "error",
     "traceback": [
      "\u001b[1;31m---------------------------------------------------------------------------\u001b[0m",
      "\u001b[1;31mKeyboardInterrupt\u001b[0m                         Traceback (most recent call last)",
      "Cell \u001b[1;32mIn[2], line 90\u001b[0m\n\u001b[0;32m     88\u001b[0m             \u001b[38;5;28mprint\u001b[39m(\u001b[38;5;124m\"\u001b[39m\u001b[38;5;124mINVALID CHOICE!!!\u001b[39m\u001b[38;5;124m\"\u001b[39m)\n\u001b[0;32m     89\u001b[0m \u001b[38;5;28;01mif\u001b[39;00m \u001b[38;5;18m__name__\u001b[39m \u001b[38;5;241m==\u001b[39m \u001b[38;5;124m\"\u001b[39m\u001b[38;5;124m__main__\u001b[39m\u001b[38;5;124m\"\u001b[39m:\n\u001b[1;32m---> 90\u001b[0m     main()\n",
      "Cell \u001b[1;32mIn[2], line 75\u001b[0m, in \u001b[0;36mmain\u001b[1;34m()\u001b[0m\n\u001b[0;32m     73\u001b[0m \u001b[38;5;28mprint\u001b[39m(\u001b[38;5;124m\"\u001b[39m\u001b[38;5;124m4. BALANCE\u001b[39m\u001b[38;5;124m\"\u001b[39m)\n\u001b[0;32m     74\u001b[0m \u001b[38;5;28mprint\u001b[39m(\u001b[38;5;124m\"\u001b[39m\u001b[38;5;124m5. LOGOUT\u001b[39m\u001b[38;5;124m\"\u001b[39m)\n\u001b[1;32m---> 75\u001b[0m choice \u001b[38;5;241m=\u001b[39m \u001b[38;5;28minput\u001b[39m(\u001b[38;5;124m\"\u001b[39m\u001b[38;5;130;01m\\n\u001b[39;00m\u001b[38;5;124m Select an option: \u001b[39m\u001b[38;5;130;01m\\n\u001b[39;00m\u001b[38;5;124m\"\u001b[39m)\n\u001b[0;32m     76\u001b[0m \u001b[38;5;28;01mif\u001b[39;00m choice \u001b[38;5;241m==\u001b[39m \u001b[38;5;124m\"\u001b[39m\u001b[38;5;124m1\u001b[39m\u001b[38;5;124m\"\u001b[39m:\n\u001b[0;32m     77\u001b[0m     bankapp\u001b[38;5;241m.\u001b[39mdeposit()\n",
      "File \u001b[1;32mC:\\ProgramData\\anaconda3\\Lib\\site-packages\\ipykernel\\kernelbase.py:1202\u001b[0m, in \u001b[0;36mKernel.raw_input\u001b[1;34m(self, prompt)\u001b[0m\n\u001b[0;32m   1200\u001b[0m     msg \u001b[38;5;241m=\u001b[39m \u001b[38;5;124m\"\u001b[39m\u001b[38;5;124mraw_input was called, but this frontend does not support input requests.\u001b[39m\u001b[38;5;124m\"\u001b[39m\n\u001b[0;32m   1201\u001b[0m     \u001b[38;5;28;01mraise\u001b[39;00m StdinNotImplementedError(msg)\n\u001b[1;32m-> 1202\u001b[0m \u001b[38;5;28;01mreturn\u001b[39;00m \u001b[38;5;28mself\u001b[39m\u001b[38;5;241m.\u001b[39m_input_request(\n\u001b[0;32m   1203\u001b[0m     \u001b[38;5;28mstr\u001b[39m(prompt),\n\u001b[0;32m   1204\u001b[0m     \u001b[38;5;28mself\u001b[39m\u001b[38;5;241m.\u001b[39m_parent_ident[\u001b[38;5;124m\"\u001b[39m\u001b[38;5;124mshell\u001b[39m\u001b[38;5;124m\"\u001b[39m],\n\u001b[0;32m   1205\u001b[0m     \u001b[38;5;28mself\u001b[39m\u001b[38;5;241m.\u001b[39mget_parent(\u001b[38;5;124m\"\u001b[39m\u001b[38;5;124mshell\u001b[39m\u001b[38;5;124m\"\u001b[39m),\n\u001b[0;32m   1206\u001b[0m     password\u001b[38;5;241m=\u001b[39m\u001b[38;5;28;01mFalse\u001b[39;00m,\n\u001b[0;32m   1207\u001b[0m )\n",
      "File \u001b[1;32mC:\\ProgramData\\anaconda3\\Lib\\site-packages\\ipykernel\\kernelbase.py:1245\u001b[0m, in \u001b[0;36mKernel._input_request\u001b[1;34m(self, prompt, ident, parent, password)\u001b[0m\n\u001b[0;32m   1242\u001b[0m \u001b[38;5;28;01mexcept\u001b[39;00m \u001b[38;5;167;01mKeyboardInterrupt\u001b[39;00m:\n\u001b[0;32m   1243\u001b[0m     \u001b[38;5;66;03m# re-raise KeyboardInterrupt, to truncate traceback\u001b[39;00m\n\u001b[0;32m   1244\u001b[0m     msg \u001b[38;5;241m=\u001b[39m \u001b[38;5;124m\"\u001b[39m\u001b[38;5;124mInterrupted by user\u001b[39m\u001b[38;5;124m\"\u001b[39m\n\u001b[1;32m-> 1245\u001b[0m     \u001b[38;5;28;01mraise\u001b[39;00m \u001b[38;5;167;01mKeyboardInterrupt\u001b[39;00m(msg) \u001b[38;5;28;01mfrom\u001b[39;00m \u001b[38;5;28;01mNone\u001b[39;00m\n\u001b[0;32m   1246\u001b[0m \u001b[38;5;28;01mexcept\u001b[39;00m \u001b[38;5;167;01mException\u001b[39;00m:\n\u001b[0;32m   1247\u001b[0m     \u001b[38;5;28mself\u001b[39m\u001b[38;5;241m.\u001b[39mlog\u001b[38;5;241m.\u001b[39mwarning(\u001b[38;5;124m\"\u001b[39m\u001b[38;5;124mInvalid Message:\u001b[39m\u001b[38;5;124m\"\u001b[39m, exc_info\u001b[38;5;241m=\u001b[39m\u001b[38;5;28;01mTrue\u001b[39;00m)\n",
      "\u001b[1;31mKeyboardInterrupt\u001b[0m: Interrupted by user"
     ]
    }
   ],
   "source": [
    "class Bankapp:\n",
    "    def __init__(self):\n",
    "        self.balance = 0\n",
    "        self.pin = \"1234\"\n",
    "    def deposit(self):\n",
    "        amount = float(input(\"Enter deposit amount: \"))\n",
    "        self.balance += amount\n",
    "        print(\"Transaction successful............\")\n",
    "    def transfer(self):\n",
    "        amount = float(input(\"Enter transfer amount: \"))\n",
    "        acct_no = input(\"Enter receiver account number: \")\n",
    "        bank_name = input(\"Enter bank name: \")\n",
    "        if amount > self.balance:\n",
    "            print(\"Insufficient Funds...........\")\n",
    "        elif amount < 100:\n",
    "            print(\"Minimum transfer amount is 100.......\")\n",
    "        else:\n",
    "            pin = input(\"Enter your pin: \")\n",
    "            if pin == self.pin:\n",
    "                self.balance -= amount\n",
    "                print(\"Transaction successful.............\")\n",
    "            else:\n",
    "                print(\"Incorrect pin\")\n",
    "    def electricity(self):\n",
    "        print(\"1. PREPAID\")\n",
    "        print(\"2. POSTPAID\")\n",
    "        option = input(\"Select meter type: \")\n",
    "        if option == \"1\":\n",
    "            meter_no = input(\"Enter meter number: \")\n",
    "            meter_name = input(\"Enter meter name: \")\n",
    "            amount = float(input(\"Enter amount: \"))\n",
    "            if amount > self.balance:\n",
    "                print(\"Insufficient funds.......\")\n",
    "            elif amount < 500:\n",
    "                print(\"Minimum amount is 500..........\")\n",
    "            else:\n",
    "                pin = input(\"Enter your pin: \")\n",
    "                if pin == self.pin:\n",
    "                    self.balance -= amount\n",
    "                    print(\"Transaction successful.............\")\n",
    "                else:\n",
    "                    print(\"Incorrect pin\")  \n",
    "        elif option == \"2\":\n",
    "            meter_no = input(\"Enter meter number: \")\n",
    "            meter_name = input(\"Enter meter name: \")\n",
    "            amount = float(input(\"Enter amount: \"))\n",
    "            if amount > self.balance:\n",
    "                print(\"Insufficient funds.......\")\n",
    "            elif amount < 500:\n",
    "                print(\"Minimum amount is 500..........\")\n",
    "            else:\n",
    "                pin = input(\"Enter your pin: \")\n",
    "                if pin == self.pin:\n",
    "                    self.balance -= amount\n",
    "                    print(\"Transaction successful.............\")\n",
    "                else:\n",
    "                    print(\"Incorrect pin\") \n",
    "        else:\n",
    "            print(\"Invalid Option............\")\n",
    "    def check_balance(self):\n",
    "        pin = input(\"Enter your pin: \")\n",
    "        if pin == self.pin:\n",
    "            print(f\"Your Balance is: {self.balance}\")\n",
    "        else:\n",
    "            print(\"Incorrect pin\")\n",
    "def main():\n",
    "    bankapp = Bankapp()\n",
    "    while True:\n",
    "        print(\"\\nWELCOME TO BANKAPP\\n\")\n",
    "        print(\"1. DEPOSIT\")\n",
    "        print(\"2. TRANSFER\")\n",
    "        print(\"3. ELECTRICITY\")\n",
    "        print(\"4. BALANCE\")\n",
    "        print(\"5. LOGOUT\")\n",
    "        choice = input(\"\\n Select an option: \\n\")\n",
    "        if choice == \"1\":\n",
    "            bankapp.deposit()\n",
    "        elif choice == \"2\":\n",
    "            bankapp.transfer()\n",
    "        elif choice == \"3\":\n",
    "            bankapp.electricity()\n",
    "        elif choice == \"4\":\n",
    "            bankapp.check_balance()\n",
    "        elif choice == \"5\":\n",
    "            print(\"THANK YOU FOR BANKING WITH US..............\")\n",
    "            break\n",
    "        else:\n",
    "            print(\"INVALID CHOICE!!!\")\n",
    "if __name__ == \"__main__\":\n",
    "    main()"
   ]
  },
  {
   "cell_type": "code",
   "execution_count": 37,
   "id": "0b3dafac",
   "metadata": {},
   "outputs": [
    {
     "name": "stdout",
     "output_type": "stream",
     "text": [
      "Enter transfer amount: 50000\n",
      "Enter receiver account number: 372891221\n",
      "Enter bank name: fh\n",
      "Insufficient Funds...........\n"
     ]
    }
   ],
   "source": [
    "bankapp.transfer()"
   ]
  },
  {
   "cell_type": "code",
   "execution_count": null,
   "id": "ca09a11d",
   "metadata": {},
   "outputs": [],
   "source": []
  },
  {
   "cell_type": "code",
   "execution_count": null,
   "id": "5e73f175",
   "metadata": {},
   "outputs": [],
   "source": []
  }
 ],
 "metadata": {
  "kernelspec": {
   "display_name": "Python 3 (ipykernel)",
   "language": "python",
   "name": "python3"
  },
  "language_info": {
   "codemirror_mode": {
    "name": "ipython",
    "version": 3
   },
   "file_extension": ".py",
   "mimetype": "text/x-python",
   "name": "python",
   "nbconvert_exporter": "python",
   "pygments_lexer": "ipython3",
   "version": "3.11.5"
  }
 },
 "nbformat": 4,
 "nbformat_minor": 5
}
